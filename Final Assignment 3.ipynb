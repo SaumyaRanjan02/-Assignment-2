{
 "cells": [
  {
   "cell_type": "markdown",
   "id": "ddd072f3-6aae-45ba-b5e1-c83205c81c19",
   "metadata": {},
   "source": [
    "Data science tool and ecosystem"
   ]
  },
  {
   "cell_type": "markdown",
   "id": "54e35a54-50f5-4029-a191-7ab21908a13d",
   "metadata": {},
   "source": [
    "in this tool data science and ecosystem are summarised"
   ]
  },
  {
   "cell_type": "markdown",
   "id": "0413ad05-2240-47f3-8242-ab33b3e50a4d",
   "metadata": {},
   "source": [
    "some of the popular languages data scientist usdd are :\n",
    "1. R\n",
    "2. Python\n",
    "3. No Sql"
   ]
  },
  {
   "cell_type": "markdown",
   "id": "3c0b91bb-8423-4b0a-a9f1-fc997abaa891",
   "metadata": {},
   "source": [
    "|Sno|Data Science tools|\n",
    "|------------------|--------|\n",
    "|1|Jupytr|\n",
    "|2|Github|\n",
    "|3|Anaconda|"
   ]
  },
  {
   "cell_type": "markdown",
   "id": "3874e7b4-7609-4b11-8377-a53689271c42",
   "metadata": {},
   "source": [
    "### below are few examples of evaluating arithmetc expressions in python"
   ]
  },
  {
   "cell_type": "code",
   "execution_count": 24,
   "id": "8fde87be-2ebc-4add-941f-30c635b72285",
   "metadata": {},
   "outputs": [
    {
     "data": {
      "text/plain": [
       "17"
      ]
     },
     "execution_count": 24,
     "metadata": {},
     "output_type": "execute_result"
    }
   ],
   "source": [
    "(3*4)+5"
   ]
  },
  {
   "cell_type": "code",
   "execution_count": 31,
   "id": "0d89f06b-b5a8-4a0d-bf2f-b715e2ebecfa",
   "metadata": {},
   "outputs": [
    {
     "data": {
      "text/plain": [
       "3.3333333333333335"
      ]
     },
     "execution_count": 31,
     "metadata": {},
     "output_type": "execute_result"
    }
   ],
   "source": [
    "(200/60)"
   ]
  },
  {
   "cell_type": "markdown",
   "id": "a823ad81-84a6-462e-ac76-d3b15a30bbb0",
   "metadata": {},
   "source": [
    "this will convert hours to minutes"
   ]
  },
  {
   "cell_type": "markdown",
   "id": "60c695b5-e0c0-4711-95b8-418aae4b5a72",
   "metadata": {},
   "source": [
    "some of the most commonly used data science libraries include:\n",
    "1. Numpy\n",
    "2. ggplot 2\n",
    "3. Scify"
   ]
  },
  {
   "cell_type": "markdown",
   "id": "e947f1ef-162d-413e-9eed-162d1e315414",
   "metadata": {},
   "source": [
    "Objectives:\n",
    "data science tools\n",
    "libraries\n",
    "Expressions"
   ]
  },
  {
   "cell_type": "markdown",
   "id": "89737006-0dde-4558-a5ea-f85c5d661719",
   "metadata": {},
   "source": [
    "## Author\n",
    "Saumya"
   ]
  },
  {
   "cell_type": "code",
   "execution_count": null,
   "id": "a3c7e819-6733-46a7-b385-7dcf68b3b184",
   "metadata": {},
   "outputs": [],
   "source": []
  }
 ],
 "metadata": {
  "kernelspec": {
   "display_name": "Python 3 (ipykernel)",
   "language": "python",
   "name": "python3"
  },
  "language_info": {
   "codemirror_mode": {
    "name": "ipython",
    "version": 3
   },
   "file_extension": ".py",
   "mimetype": "text/x-python",
   "name": "python",
   "nbconvert_exporter": "python",
   "pygments_lexer": "ipython3",
   "version": "3.12.4"
  }
 },
 "nbformat": 4,
 "nbformat_minor": 5
}
